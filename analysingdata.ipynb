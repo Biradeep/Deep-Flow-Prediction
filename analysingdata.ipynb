{
  "nbformat": 4,
  "nbformat_minor": 0,
  "metadata": {
    "colab": {
      "name": "analysingdata.ipynb",
      "provenance": [],
      "authorship_tag": "ABX9TyMTYSK9VimHGZsufbqbiOcG",
      "include_colab_link": true
    },
    "kernelspec": {
      "name": "python3",
      "display_name": "Python 3"
    },
    "language_info": {
      "name": "python"
    },
    "accelerator": "GPU"
  },
  "cells": [
    {
      "cell_type": "markdown",
      "metadata": {
        "id": "view-in-github",
        "colab_type": "text"
      },
      "source": [
        "<a href=\"https://colab.research.google.com/github/Biradeep/Deep-Flow-Prediction/blob/master/analysingdata.ipynb\" target=\"_parent\"><img src=\"https://colab.research.google.com/assets/colab-badge.svg\" alt=\"Open In Colab\"/></a>"
      ]
    },
    {
      "cell_type": "code",
      "metadata": {
        "colab": {
          "base_uri": "https://localhost:8080/"
        },
        "id": "W44J7AOn44K1",
        "outputId": "818c1992-9969-455e-f50d-3f950b4d638d"
      },
      "source": [
        "from google.colab import drive\n",
        "drive.mount('/content/gdrive')"
      ],
      "execution_count": null,
      "outputs": [
        {
          "output_type": "stream",
          "text": [
            "Mounted at /content/gdrive\n"
          ],
          "name": "stdout"
        }
      ]
    },
    {
      "cell_type": "code",
      "metadata": {
        "id": "nWszc-EG6r2d"
      },
      "source": [
        "root_path = 'gdrive/My Drive/dataset'"
      ],
      "execution_count": null,
      "outputs": []
    },
    {
      "cell_type": "code",
      "metadata": {
        "id": "CJVkC0Kd8TM9"
      },
      "source": [
        "!tar -xvf /content/gdrive/MyDrive/dataset/data_6k.tar.gz"
      ],
      "execution_count": null,
      "outputs": []
    },
    {
      "cell_type": "code",
      "metadata": {
        "id": "_nTH6MStngL5"
      },
      "source": [
        "import glob\n",
        "files_dir_train = glob.glob(r\"/content/data/train/*.npz\")\n",
        "files_dir_test = glob.glob(r\"/content/data/test/*.npz\")"
      ],
      "execution_count": null,
      "outputs": []
    },
    {
      "cell_type": "code",
      "metadata": {
        "id": "b-HtWeZqn3Ga"
      },
      "source": [
        "files_dir_train"
      ],
      "execution_count": null,
      "outputs": []
    },
    {
      "cell_type": "code",
      "metadata": {
        "id": "TdSZRFfcWI08"
      },
      "source": [
        "#----------IGNORE THIS (TESTING AND TRIALING OF ANALYSIS)---------"
      ],
      "execution_count": null,
      "outputs": []
    },
    {
      "cell_type": "code",
      "metadata": {
        "colab": {
          "base_uri": "https://localhost:8080/"
        },
        "id": "u0RCtnMkNZpE",
        "outputId": "fe75ede9-c0b7-4055-c47d-042f16043c71"
      },
      "source": [
        "import numpy as np\n",
        "train2032c_data = np.load('/content/data/train/2032c_4460_113.npz')\n",
        "print(train2032c_data.files) "
      ],
      "execution_count": null,
      "outputs": [
        {
          "output_type": "stream",
          "text": [
            "['a']\n"
          ],
          "name": "stdout"
        }
      ]
    },
    {
      "cell_type": "code",
      "metadata": {
        "colab": {
          "base_uri": "https://localhost:8080/"
        },
        "id": "mS487pojWB9m",
        "outputId": "14d8d48a-8a5c-4960-d47c-a93bbc95ebb5"
      },
      "source": [
        "traina18_27_data =  np.load('/content/data/train/a18_2762_210.npz')\n",
        "print('Contains following files: \\n = {}'.format(traina18_27_data.files))\n",
        "\n",
        "print(\"File's size: \\n ={}\".format(traina18_27_data['a'].shape))\n",
        "\n",
        "print(\"Files data type: \\n ={}\".format(traina18_27_data['a'].dtype))\n",
        "\n",
        "#print(\"Output of file: \\n ={}\".format(traina18_27_data['a']))"
      ],
      "execution_count": null,
      "outputs": [
        {
          "output_type": "stream",
          "text": [
            "Contains following files: \n",
            " = ['a']\n",
            "File's size: \n",
            " =(6, 128, 128)\n",
            "Files data type: \n",
            " =float64\n"
          ],
          "name": "stdout"
        }
      ]
    },
    {
      "cell_type": "code",
      "metadata": {
        "colab": {
          "base_uri": "https://localhost:8080/"
        },
        "id": "YRMmryAsCMwG",
        "outputId": "8b0d6290-9e5c-4b7b-cf65-a6712543fb23"
      },
      "source": [
        "x_data =  np.load('/content/data/train/2032c_7403_-728.npz')\n",
        "\n",
        "print('Contains following files: \\n = {}'.format(x_data.files))\n",
        "\n",
        "print(\"File's size: \\n ={}\".format(x_data['a'].shape))\n",
        "\n",
        "print(\"Files data type: \\n ={}\".format(x_data['a'].dtype))\n",
        "\n",
        "#print(\"Output of file: \\n ={}\".format(x_data['a']))"
      ],
      "execution_count": null,
      "outputs": [
        {
          "output_type": "stream",
          "text": [
            "Contains following files: \n",
            " = ['a']\n",
            "File's size: \n",
            " =(6, 128, 128)\n",
            "Files data type: \n",
            " =float64\n"
          ],
          "name": "stdout"
        }
      ]
    },
    {
      "cell_type": "code",
      "metadata": {
        "colab": {
          "base_uri": "https://localhost:8080/"
        },
        "id": "eXDCIi5LIf3g",
        "outputId": "8c8753eb-d8bb-43a3-9bf5-e36e4b263a10"
      },
      "source": [
        "x_val = list(x_data.values())[0]\n",
        "inputs = x_val[0,:1,:1,]\n",
        "inputs\n",
        "#input_mask_flat = inputs.flatten()\n",
        "#input_mask_flat"
      ],
      "execution_count": null,
      "outputs": [
        {
          "output_type": "execute_result",
          "data": {
            "text/plain": [
              "array([[74.03074326]])"
            ]
          },
          "metadata": {
            "tags": []
          },
          "execution_count": 56
        }
      ]
    },
    {
      "cell_type": "code",
      "metadata": {
        "id": "Ye4JTMBljfuq"
      },
      "source": [
        "outputs = x_val[3:6,:]\n",
        "outputs"
      ],
      "execution_count": null,
      "outputs": []
    },
    {
      "cell_type": "code",
      "metadata": {
        "id": "MxAthnFmH2Gs"
      },
      "source": [
        "import matplotlib.pyplot as plt\n",
        "plt.hist(list(x_val[0,:,:]))"
      ],
      "execution_count": null,
      "outputs": []
    },
    {
      "cell_type": "code",
      "metadata": {
        "id": "Om-mAOIYWUQG"
      },
      "source": [
        "#------------------------ANALYSIS OF DATA STARTS HERE-------------------------------------------------------------------------"
      ],
      "execution_count": null,
      "outputs": []
    },
    {
      "cell_type": "code",
      "metadata": {
        "id": "FHySoQYSqDYU"
      },
      "source": [
        "train_files_dir = glob.glob(r\"/content/data/train/*.npz\")\n",
        "train_files_dir"
      ],
      "execution_count": null,
      "outputs": []
    },
    {
      "cell_type": "code",
      "metadata": {
        "colab": {
          "base_uri": "https://localhost:8080/"
        },
        "id": "AaS8F_Zw3j0p",
        "outputId": "94138c0b-c850-4cdd-eff1-dcf511d264b8"
      },
      "source": [
        "len(train_files_dir)"
      ],
      "execution_count": null,
      "outputs": [
        {
          "output_type": "execute_result",
          "data": {
            "text/plain": [
              "6400"
            ]
          },
          "metadata": {
            "tags": []
          },
          "execution_count": 15
        }
      ]
    },
    {
      "cell_type": "code",
      "metadata": {
        "id": "9UE5STi-V2A2"
      },
      "source": [
        "#----------------------------FREESTREAM X-----------------------------------------------------------------------------------"
      ],
      "execution_count": null,
      "outputs": []
    },
    {
      "cell_type": "code",
      "metadata": {
        "id": "RAyVdM3CGeVh"
      },
      "source": [
        "def __get_freestream_x(idx):\n",
        "  string_=train_files_dir[idx]\n",
        "  data = np.load(string_)\n",
        "  data_val = list(data.values())[0]\n",
        "  fsx = data_val[0,:1,:1,]\n",
        "  return fsx\n",
        "\n",
        "#print(__get_freestream_x(6399))\n",
        "#print(__get_freestream_x(0))\n",
        "#print(__get_freestream_x(2000))"
      ],
      "execution_count": null,
      "outputs": []
    },
    {
      "cell_type": "code",
      "metadata": {
        "id": "tkU0ToUFOzPq"
      },
      "source": [
        "list_of_freestream_x = []\n",
        "for idx in range(0, 6400):\n",
        "  fsx_result = __get_freestream_x(idx)\n",
        "  list_of_freestream_x.append(fsx_result[0][0])\n",
        "\n"
      ],
      "execution_count": null,
      "outputs": []
    },
    {
      "cell_type": "code",
      "metadata": {
        "id": "BNQFKNRlQqCb"
      },
      "source": [
        "list_of_freestream_x"
      ],
      "execution_count": null,
      "outputs": []
    },
    {
      "cell_type": "code",
      "metadata": {
        "colab": {
          "base_uri": "https://localhost:8080/"
        },
        "id": "OfrtFu-4Skes",
        "outputId": "0d61ee28-7bdd-4f05-cffd-6ec61ede98fe"
      },
      "source": [
        "import statistics\n",
        "print(\"Min freestream x_velocity = \", min(list_of_freestream_x))\n",
        "print(\"Max freestream x_velocity = \", max(list_of_freestream_x))\n",
        "print(\"Mean freestream x_velocity = \", statistics.mean(list_of_freestream_x))"
      ],
      "execution_count": null,
      "outputs": [
        {
          "output_type": "stream",
          "text": [
            "Min freestream x_velocity =  9.291842368060925\n",
            "Max freestream x_velocity =  99.81720874963077\n",
            "Mean freestream x_velocity =  53.31345688244937\n"
          ],
          "name": "stdout"
        }
      ]
    },
    {
      "cell_type": "code",
      "metadata": {
        "id": "fadxldGAUk_F"
      },
      "source": [
        "print(\"The index of max freestream x_velocity\",list_of_freestream_x.index(max(list_of_freestream_x)))\n",
        "print(\"The index of min freestream x_velocity\",list_of_freestream_x.index(min(list_of_freestream_x)))\n",
        "print(\"The index of freestream x_velocity 21.55 \",list_of_freestream_x.index(74.03074326))"
      ],
      "execution_count": null,
      "outputs": []
    },
    {
      "cell_type": "code",
      "metadata": {
        "colab": {
          "base_uri": "https://localhost:8080/",
          "height": 265
        },
        "id": "0uSFNXcXRoj7",
        "outputId": "44b56a51-fc47-4e78-d742-ad626cd810ce"
      },
      "source": [
        "plt.hist(list_of_freestream_x)\n",
        "plt.show()"
      ],
      "execution_count": null,
      "outputs": [
        {
          "output_type": "display_data",
          "data": {
            "image/png": "[encoded data removed]",
            "text/plain": [
              "<Figure size 432x288 with 1 Axes>"
            ]
          },
          "metadata": {
            "tags": [],
            "needs_background": "light"
          }
        }
      ]
    },
    {
      "cell_type": "code",
      "metadata": {
        "id": "tsOk8YjsV7Oc"
      },
      "source": [
        "#------------------FREESTREAM Y------------------------------------------------------"
      ],
      "execution_count": null,
      "outputs": []
    },
    {
      "cell_type": "code",
      "metadata": {
        "id": "vWe7sHLqV_96"
      },
      "source": [
        "def __get_freestream_y(idx):\n",
        "  string_=train_files_dir[idx]\n",
        "  data = np.load(string_)\n",
        "  data_val = list(data.values())[0]\n",
        "  fsy = data_val[1,:1,:1,]\n",
        "  return fsy"
      ],
      "execution_count": null,
      "outputs": []
    },
    {
      "cell_type": "code",
      "metadata": {
        "id": "SWrwfAoYWvJy"
      },
      "source": [
        "list_of_freestream_y = []\n",
        "for idx in range(0, 6400):\n",
        "  fsy_result = __get_freestream_y(idx)\n",
        "  list_of_freestream_y.append(fsy_result[0][0])"
      ],
      "execution_count": null,
      "outputs": []
    },
    {
      "cell_type": "code",
      "metadata": {
        "colab": {
          "base_uri": "https://localhost:8080/"
        },
        "id": "wePY7wx9W9Ta",
        "outputId": "e5c13c95-20ab-4047-ea5d-7ff80c8f8be0"
      },
      "source": [
        "import statistics\n",
        "print(\"Min freestream y_velocity = \", min(list_of_freestream_y))\n",
        "print(\"Max freestream y_velocity = \", max(list_of_freestream_y))\n",
        "print(\"Mean freestream y_velocity = \", statistics.mean(list_of_freestream_y))"
      ],
      "execution_count": null,
      "outputs": [
        {
          "output_type": "stream",
          "text": [
            "Min freestream y_velocity =  -36.48522349613527\n",
            "Max freestream y_velocity =  37.490332050896434\n",
            "Mean freestream y_velocity =  0.1845361803686681\n"
          ],
          "name": "stdout"
        }
      ]
    },
    {
      "cell_type": "code",
      "metadata": {
        "colab": {
          "base_uri": "https://localhost:8080/",
          "height": 265
        },
        "id": "OG1J7KjkXQuI",
        "outputId": "ade4a449-f465-4bc2-baa3-7dfb574d9d39"
      },
      "source": [
        "plt.hist(list_of_freestream_y)\n",
        "plt.show()"
      ],
      "execution_count": null,
      "outputs": [
        {
          "output_type": "display_data",
          "data": {
            "image/png": "[encoded data removed]",
            "text/plain": [
              "<Figure size 432x288 with 1 Axes>"
            ]
          },
          "metadata": {
            "tags": [],
            "needs_background": "light"
          }
        }
      ]
    },
    {
      "cell_type": "code",
      "metadata": {
        "id": "UnnUklQKpGMG"
      },
      "source": [
        "#-----pressure output-----"
      ],
      "execution_count": null,
      "outputs": []
    },
    {
      "cell_type": "code",
      "metadata": {
        "id": "yyrBLEwzp-fL"
      },
      "source": [
        "def __get_pressure_output(idx):\n",
        "  string_=train_files_dir[idx]\n",
        "  data = np.load(string_)\n",
        "  data_val = list(data.values())[0]\n",
        "  po = data_val[3,:128,:128,]\n",
        "  return po"
      ],
      "execution_count": null,
      "outputs": []
    },
    {
      "cell_type": "code",
      "metadata": {
        "id": "ob17ER26yqA7"
      },
      "source": [
        "__get_pressure_output(4429)[0] #test"
      ],
      "execution_count": null,
      "outputs": []
    },
    {
      "cell_type": "code",
      "metadata": {
        "id": "V2FWBC4gsFPq"
      },
      "source": [
        "list_of_pressure_output = []\n",
        "for idx in range(0, 6400):\n",
        "  po_result = __get_pressure_output(idx)\n",
        "  list_of_pressure_output.append(po_result[0][0])"
      ],
      "execution_count": null,
      "outputs": []
    },
    {
      "cell_type": "code",
      "metadata": {
        "id": "UELqacFhtS3M"
      },
      "source": [
        "list_of_pressure_output"
      ],
      "execution_count": null,
      "outputs": []
    },
    {
      "cell_type": "code",
      "metadata": {
        "colab": {
          "base_uri": "https://localhost:8080/"
        },
        "id": "m0khVHQEscDx",
        "outputId": "f26bd6b9-9109-4b14-dab6-3b7935df94e2"
      },
      "source": [
        "import statistics\n",
        "print(\"Min pressure output = \", min(list_of_pressure_output))\n",
        "print(\"Max pressure output = \", max(list_of_pressure_output))\n",
        "print(\"Mean pressure output = \", statistics.mean(list_of_pressure_output))"
      ],
      "execution_count": null,
      "outputs": [
        {
          "output_type": "stream",
          "text": [
            "Min pressure output =  -5622.03\n",
            "Max pressure output =  24077.1\n",
            "Mean pressure output =  212.6974051945469\n"
          ],
          "name": "stdout"
        }
      ]
    },
    {
      "cell_type": "code",
      "metadata": {
        "id": "lh-NPjjsuXna"
      },
      "source": [
        "#--------------check/test----------------------"
      ],
      "execution_count": null,
      "outputs": []
    },
    {
      "cell_type": "code",
      "metadata": {
        "colab": {
          "base_uri": "https://localhost:8080/"
        },
        "id": "BTY9lofwuabc",
        "outputId": "8b03d04e-71f7-4828-ac49-8ccfa8e7ea44"
      },
      "source": [
        "list_of_pressure_output.index(-1215.66)"
      ],
      "execution_count": null,
      "outputs": [
        {
          "output_type": "execute_result",
          "data": {
            "text/plain": [
              "4429"
            ]
          },
          "metadata": {
            "tags": []
          },
          "execution_count": 68
        }
      ]
    },
    {
      "cell_type": "code",
      "metadata": {
        "colab": {
          "base_uri": "https://localhost:8080/"
        },
        "id": "M7bP9lv0ySL1",
        "outputId": "8238a214-1bf4-47b5-cd5b-63d5302e9799"
      },
      "source": [
        "__get_freestream_x(4429)"
      ],
      "execution_count": null,
      "outputs": [
        {
          "output_type": "execute_result",
          "data": {
            "text/plain": [
              "array([[74.03074326]])"
            ]
          },
          "metadata": {
            "tags": []
          },
          "execution_count": 69
        }
      ]
    },
    {
      "cell_type": "code",
      "metadata": {
        "id": "oezaS0OrzvcS"
      },
      "source": [
        "min_Vel_x= min(list_of_freestream_x)\n",
        "max_Vel_x= max(list_of_freestream_x)\n"
      ],
      "execution_count": 199,
      "outputs": []
    },
    {
      "cell_type": "code",
      "metadata": {
        "colab": {
          "base_uri": "https://localhost:8080/"
        },
        "id": "-v27kMXi0czS",
        "outputId": "0f8415d5-9496-4cb1-fb04-341da21c706a"
      },
      "source": [
        "print(min_Vel_x)\n",
        "print(max_Vel_x)"
      ],
      "execution_count": 200,
      "outputs": [
        {
          "output_type": "stream",
          "text": [
            "9.291842368060925\n",
            "99.81720874963077\n"
          ],
          "name": "stdout"
        }
      ]
    },
    {
      "cell_type": "code",
      "metadata": {
        "id": "Z5g-PGxj0pOO"
      },
      "source": [
        "min_Pressure_output_list_for_box_plot= []\n",
        "\n",
        "max_Pressure_output_list_for_box_plot= []\n",
        "\n",
        "min_Pressure_output_list_for_box_plot.append(__get_pressure_output(list_of_freestream_x.index(min(list_of_freestream_x)))[0])\n",
        "\n",
        "#Pressure_output_list_for_box_plot.append(__get_pressure_output(list_of_freestream_x.index(statistics.mean(list_of_freestream_x))))\n",
        "\n",
        "max_Pressure_output_list_for_box_plot.append(__get_pressure_output(list_of_freestream_x.index(max(list_of_freestream_x)))[0])"
      ],
      "execution_count": 179,
      "outputs": []
    },
    {
      "cell_type": "code",
      "metadata": {
        "id": "VSA_4LmF19h7"
      },
      "source": [
        "min_PO_list = min_Pressure_output_list_for_box_plot[0]\n",
        "max_PO_list = max_Pressure_output_list_for_box_plot[0]\n",
        "print(max_PO_list)\n",
        "print(len(max_PO_list))"
      ],
      "execution_count": null,
      "outputs": []
    },
    {
      "cell_type": "code",
      "metadata": {
        "colab": {
          "base_uri": "https://localhost:8080/",
          "height": 296
        },
        "id": "OofqV4wKzP3-",
        "outputId": "2a905b30-bd4c-483c-a6b0-1727d7e89ed6"
      },
      "source": [
        "y1 = min_PO_list\n",
        "y2 = max_PO_list\n",
        "x1 = min_Vel_x\n",
        "x2 = max_Vel_x\n",
        "p1 = plt.boxplot([y1,y2],positions=[1,2])\n",
        "\n",
        "plt.ylabel('Pressure Output')\n",
        "plt.xlabel('Freestream X Velocity')\n",
        "plt.xticks([1, 2], ['Vx_min ={:.2f}'.format(min_Vel_x), 'Vx_max ={:.2f}'.format(max_Vel_x)])\n",
        "plt.title('Pressure Output for Min and Max Input Velocities in x Direction')\n",
        "plt.show()"
      ],
      "execution_count": 209,
      "outputs": [
        {
          "output_type": "display_data",
          "data": {
            "image/png": "[encoded data removed]",
            "text/plain": [
              "<Figure size 432x288 with 1 Axes>"
            ]
          },
          "metadata": {
            "tags": [],
            "needs_background": "light"
          }
        }
      ]
    }
  ]
}